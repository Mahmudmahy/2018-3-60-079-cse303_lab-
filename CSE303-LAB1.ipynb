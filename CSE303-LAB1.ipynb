{
 "cells": [
  {
   "cell_type": "code",
   "execution_count": 5,
   "id": "2c818e33",
   "metadata": {},
   "outputs": [
    {
     "name": "stdout",
     "output_type": "stream",
     "text": [
      "Enter the first number 600\n",
      "Enter the second number700\n",
      "Result 1300\n"
     ]
    }
   ],
   "source": [
    "def multiplication_or_sum(number1, number2):\n",
    "  product = number1 *number2\n",
    "  if(product < 1000):\n",
    "    return product\n",
    "  else:\n",
    "    return number1 +number2\n",
    "\n",
    "number1 = int(input(\"Enter the first number \"))\n",
    "number2 = int(input(\"Enter the second number\"))\n",
    "\n",
    "result = multiplication_or_sum(number1, number2)\n",
    "print(\"Result\", result)"
   ]
  },
  {
   "cell_type": "code",
   "execution_count": 7,
   "id": "3233365e",
   "metadata": {},
   "outputs": [
    {
     "name": "stdout",
     "output_type": "stream",
     "text": [
      "Area= 314.1592653589793\n",
      "Circumference= 62.83185307179586\n"
     ]
    }
   ],
   "source": [
    "from math import pi\n",
    "#Function calculates area and circumference of a circle \n",
    "#r is the radius \n",
    " \n",
    "def calc_area_circm(r): \n",
    "    return pi * r * r, 2 * pi * r \n",
    " \n",
    " \n",
    "# Driver code \n",
    " \n",
    "area, circm = calc_area_circm(10) \n",
    "print('Area=',area) \n",
    "print('Circumference=',circm) "
   ]
  },
  {
   "cell_type": "code",
   "execution_count": 22,
   "id": "be746fe4",
   "metadata": {},
   "outputs": [
    {
     "name": "stdout",
     "output_type": "stream",
     "text": [
      "Compound interest is 4.600339303245614e+55\n"
     ]
    }
   ],
   "source": [
    "def compound_interest(principle, rate, time):\n",
    " \n",
    "    # Calculate compound interest\n",
    "    A = principle * (pow((1 + rate / 100), time))\n",
    "    CI = A - principle\n",
    "    print(\"Compound interest is\", CI)\n",
    " \n",
    "compound_interest(2018, 360, 79)"
   ]
  },
  {
   "cell_type": "code",
   "execution_count": 20,
   "id": "4fb4f515",
   "metadata": {},
   "outputs": [
    {
     "name": "stdout",
     "output_type": "stream",
     "text": [
      "1\n",
      "2\n",
      "2\n"
     ]
    }
   ],
   "source": [
    "\n",
    "\n",
    "n = int(input())\n",
    "product = 1\n",
    "for _ in range(n):\n",
    "    product *= int(input())\n",
    "print(product)\n",
    "\n"
   ]
  },
  {
   "cell_type": "code",
   "execution_count": 25,
   "id": "79f754a7",
   "metadata": {},
   "outputs": [
    {
     "name": "stdout",
     "output_type": "stream",
     "text": [
      "2018360079 is not a prime number\n"
     ]
    }
   ],
   "source": [
    "# Python program to check if\n",
    "# given number is prime or not\n",
    "  \n",
    "num = 2018360079\n",
    "  \n",
    "# If given number is greater than 1\n",
    "if num > 1:\n",
    "  \n",
    "    # Iterate from 2 to n / 2\n",
    "    for i in range(2, int(num/2)+1):\n",
    "  \n",
    "        # If num is divisible by any number between\n",
    "        # 2 and n / 2, it is not prime\n",
    "        if (num % i) == 0:\n",
    "            print(num, \"is not a prime number\")\n",
    "            break\n",
    "    else:\n",
    "        print(num, \"is a prime number\")\n",
    "  \n",
    "else:\n",
    "    print(num, \"is not a prime number\")"
   ]
  },
  {
   "cell_type": "code",
   "execution_count": 29,
   "id": "1d8815b3",
   "metadata": {},
   "outputs": [
    {
     "name": "stdout",
     "output_type": "stream",
     "text": [
      "34\n"
     ]
    }
   ],
   "source": [
    "# Function for nth Fibonacci number\n",
    " \n",
    "def Fibonacci(n):\n",
    "    if n<= 0:\n",
    "        print(\"Incorrect input\")\n",
    "    # First Fibonacci number is 0\n",
    "    elif n == 1:\n",
    "        return 0\n",
    "    # Second Fibonacci number is 1\n",
    "    elif n == 2:\n",
    "        return 1\n",
    "    else:\n",
    "        return Fibonacci(n-1)+Fibonacci(n-2)\n",
    " \n",
    " \n",
    "print(Fibonacci(10))"
   ]
  },
  {
   "cell_type": "code",
   "execution_count": 28,
   "id": "4b1b1569",
   "metadata": {},
   "outputs": [
    {
     "name": "stdout",
     "output_type": "stream",
     "text": [
      "720\n"
     ]
    }
   ],
   "source": [
    "def sum(numbers):\n",
    "    total = 0\n",
    "    for x in numbers:\n",
    "        total += x\n",
    "    return total\n",
    "print(sum((20, 18, 3, 600, 79)))"
   ]
  },
  {
   "cell_type": "code",
   "execution_count": 31,
   "id": "bfd1946a",
   "metadata": {},
   "outputs": [],
   "source": [
    "# Function to calculate Sum\n",
    "def EvenOddSum(a, n):\n",
    "    even = 0\n",
    "    odd = 0\n",
    "    for i in range(n):\n",
    " \n",
    "        # Loop to find even\n",
    "        if i % 2 == 0:\n",
    "            even += a[i]\n",
    "        \n",
    "     \n",
    "    print (\"Even index positions sum \", even)\n",
    " "
   ]
  },
  {
   "cell_type": "code",
   "execution_count": 32,
   "id": "61d76dda",
   "metadata": {},
   "outputs": [
    {
     "name": "stdout",
     "output_type": "stream",
     "text": [
      "Please enter the Total Number of List Elements: 5\n",
      "Please enter the Value of 1 Element : 20\n",
      "Please enter the Value of 2 Element : 18\n",
      "Please enter the Value of 3 Element : 3\n",
      "Please enter the Value of 4 Element : 600\n",
      "Please enter the Value of 5 Element : 079\n",
      "The Smallest Element in this List is :  3\n",
      "The Largest Element in this List is :  600\n"
     ]
    }
   ],
   "source": [
    "# Python Program to find Largest and Smallest Number in a List \n",
    "\n",
    "NumList = []\n",
    "Number = int(input(\"Please enter the Total Number of List Elements: \"))\n",
    "for i in range(1, Number + 1):\n",
    "    value = int(input(\"Please enter the Value of %d Element : \" %i))\n",
    "    NumList.append(value)\n",
    "\n",
    "print(\"The Smallest Element in this List is : \", min(NumList))\n",
    "print(\"The Largest Element in this List is : \", max(NumList))"
   ]
  },
  {
   "cell_type": "code",
   "execution_count": 34,
   "id": "5b75ecf1",
   "metadata": {},
   "outputs": [
    {
     "name": "stdout",
     "output_type": "stream",
     "text": [
      "Second largest number is :  79\n"
     ]
    }
   ],
   "source": [
    "# Python program to find second largest\n",
    "# number in a list\n",
    " \n",
    "# list of numbers - length of\n",
    "# list should be at least 2\n",
    "list1 = [20, 18, 3, 600, 79]\n",
    " \n",
    "mx=max(list1[0],list1[1])\n",
    "secondmax=min(list1[0],list1[1])\n",
    "n =len(list1)\n",
    "for i in range(2,n):\n",
    "    if list1[i]>mx:\n",
    "        secondmax=mx\n",
    "        mx=list1[i]\n",
    "    elif list1[i]>secondmax and \\\n",
    "        mx != list1[i]:\n",
    "        secondmax=list1[i]\n",
    " \n",
    "print(\"Second largest number is : \",\\\n",
    "      str(secondmax))"
   ]
  },
  {
   "cell_type": "code",
   "execution_count": 36,
   "id": "8fb26817",
   "metadata": {},
   "outputs": [
    {
     "name": "stdout",
     "output_type": "stream",
     "text": [
      "Enter a string: 6\n",
      "Even characters: ['6']\n"
     ]
    }
   ],
   "source": [
    "given_string = input('Enter a string: ')\n",
    "\n",
    "even_chars = []\n",
    "\n",
    "for i in range(len(given_string)):\n",
    "    if i % 2 == 0:\n",
    "        even_chars.append(given_string[i])\n",
    "\n",
    "print('Even characters: {}'.format(even_chars))"
   ]
  },
  {
   "cell_type": "code",
   "execution_count": 42,
   "id": "31875e45",
   "metadata": {},
   "outputs": [
    {
     "name": "stdout",
     "output_type": "stream",
     "text": [
      "CSE303\n",
      "CSE303\n",
      "0\n"
     ]
    }
   ],
   "source": [
    "string =input()\n",
    "substring = input()\n",
    "count = 0\n",
    "i=0\n",
    "while(i<(len(string)-len(substring))):\n",
    "    if(string.find(substring,i,len(string))>=0):\n",
    "        count+=1\n",
    "        i=string.find(substring,i,len(string))+1\n",
    "    else:\n",
    "        break;\n",
    "print(count)"
   ]
  },
  {
   "cell_type": "code",
   "execution_count": 45,
   "id": "dbb412c7",
   "metadata": {},
   "outputs": [
    {
     "name": "stdout",
     "output_type": "stream",
     "text": [
      "No\n"
     ]
    }
   ],
   "source": [
    "def isPalindrome(s):\n",
    "    return s == s[::-1]\n",
    " \n",
    " \n",
    "s = \"2018-3-60-079\"\n",
    "ans = isPalindrome(s)\n",
    " \n",
    "if ans:\n",
    "    print(\"Yes\")\n",
    "else:\n",
    "    print(\"No\")"
   ]
  },
  {
   "cell_type": "code",
   "execution_count": null,
   "id": "8b6a509a",
   "metadata": {},
   "outputs": [],
   "source": [
    "# Python code to split into even and odd lists \n",
    "# Funtion to split \n",
    "def splitevenodd(A): \n",
    "   evenlist = [] \n",
    "   oddlist = [] \n",
    "   for i in A: \n",
    "      if (i % 2 == 0): \n",
    "         evenlist.append(i) \n",
    "      else: \n",
    "         oddlist.append(i) \n",
    "   print(\"Even lists:\", evenlist) \n",
    "   print(\"Odd lists:\", oddlist) \n",
    "  \n",
    "# Driver Code \n",
    "A=list()\n",
    "n=int(input(\"Enter the size of the First List ::\"))\n",
    "print(\"Enter the Element of First  List ::\")\n",
    "for i in range(int(n)):\n",
    "   k=int(input(\"\"))\n",
    "   A.append(k)\n",
    "splitevenodd(A) "
   ]
  },
  {
   "cell_type": "code",
   "execution_count": null,
   "id": "3eace1a2",
   "metadata": {},
   "outputs": [],
   "source": []
  },
  {
   "cell_type": "code",
   "execution_count": null,
   "id": "696e339e",
   "metadata": {},
   "outputs": [],
   "source": []
  },
  {
   "cell_type": "code",
   "execution_count": null,
   "id": "da1f8a05",
   "metadata": {},
   "outputs": [],
   "source": []
  }
 ],
 "metadata": {
  "kernelspec": {
   "display_name": "Python 3 (ipykernel)",
   "language": "python",
   "name": "python3"
  },
  "language_info": {
   "codemirror_mode": {
    "name": "ipython",
    "version": 3
   },
   "file_extension": ".py",
   "mimetype": "text/x-python",
   "name": "python",
   "nbconvert_exporter": "python",
   "pygments_lexer": "ipython3",
   "version": "3.9.7"
  }
 },
 "nbformat": 4,
 "nbformat_minor": 5
}
